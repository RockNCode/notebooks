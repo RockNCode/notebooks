{
  "nbformat": 4,
  "nbformat_minor": 0,
  "metadata": {
    "colab": {
      "provenance": [],
      "authorship_tag": "ABX9TyPVIZgmFglIitlEyzdYdLS9",
      "include_colab_link": true
    },
    "kernelspec": {
      "name": "python3",
      "display_name": "Python 3"
    },
    "language_info": {
      "name": "python"
    }
  },
  "cells": [
    {
      "cell_type": "markdown",
      "metadata": {
        "id": "view-in-github",
        "colab_type": "text"
      },
      "source": [
        "<a href=\"https://colab.research.google.com/github/RockNCode/notebooks/blob/main/udemy_tf_graphs2_ipynb.ipynb\" target=\"_parent\"><img src=\"https://colab.research.google.com/assets/colab-badge.svg\" alt=\"Open In Colab\"/></a>"
      ]
    },
    {
      "cell_type": "code",
      "execution_count": 1,
      "metadata": {
        "id": "RuDTbLv6hTgf"
      },
      "outputs": [],
      "source": [
        "import tensorflow as tf"
      ]
    },
    {
      "cell_type": "code",
      "source": [
        "mytensor = tf.random.uniform((4,4),0,1)\n",
        "mytensor"
      ],
      "metadata": {
        "colab": {
          "base_uri": "https://localhost:8080/"
        },
        "id": "EmkrLW13hc_V",
        "outputId": "a9e3a291-72d7-4a58-b52e-6fb1bf694559"
      },
      "execution_count": 6,
      "outputs": [
        {
          "output_type": "execute_result",
          "data": {
            "text/plain": [
              "<tf.Tensor: shape=(4, 4), dtype=float32, numpy=\n",
              "array([[0.83810866, 0.10333312, 0.66899824, 0.06173074],\n",
              "       [0.24430275, 0.7859026 , 0.18834996, 0.98322797],\n",
              "       [0.28895223, 0.20264828, 0.13047314, 0.02763188],\n",
              "       [0.94008636, 0.5112734 , 0.98115194, 0.2740997 ]], dtype=float32)>"
            ]
          },
          "metadata": {},
          "execution_count": 6
        }
      ]
    },
    {
      "cell_type": "code",
      "source": [
        "myvar = tf.Variable(initial_value=mytensor)\n",
        "myvar"
      ],
      "metadata": {
        "id": "TO-SGFlVj09q",
        "outputId": "40c48dd2-419c-43af-c800-9aa0d96c73a9",
        "colab": {
          "base_uri": "https://localhost:8080/"
        }
      },
      "execution_count": 9,
      "outputs": [
        {
          "output_type": "execute_result",
          "data": {
            "text/plain": [
              "<tf.Variable 'Variable:0' shape=(4, 4) dtype=float32, numpy=\n",
              "array([[0.83810866, 0.10333312, 0.66899824, 0.06173074],\n",
              "       [0.24430275, 0.7859026 , 0.18834996, 0.98322797],\n",
              "       [0.28895223, 0.20264828, 0.13047314, 0.02763188],\n",
              "       [0.94008636, 0.5112734 , 0.98115194, 0.2740997 ]], dtype=float32)>"
            ]
          },
          "metadata": {},
          "execution_count": 9
        }
      ]
    },
    {
      "cell_type": "code",
      "source": [
        "ph= tf"
      ],
      "metadata": {
        "id": "XaE2osMBllBj"
      },
      "execution_count": null,
      "outputs": []
    }
  ]
}