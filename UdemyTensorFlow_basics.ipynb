{
  "nbformat": 4,
  "nbformat_minor": 0,
  "metadata": {
    "colab": {
      "provenance": [],
      "authorship_tag": "ABX9TyPEehCYzFbEdR+c1aFBWdxv",
      "include_colab_link": true
    },
    "kernelspec": {
      "name": "python3",
      "display_name": "Python 3"
    },
    "language_info": {
      "name": "python"
    }
  },
  "cells": [
    {
      "cell_type": "markdown",
      "metadata": {
        "id": "view-in-github",
        "colab_type": "text"
      },
      "source": [
        "<a href=\"https://colab.research.google.com/github/RockNCode/notebooks/blob/main/UdemyTensorFlow_basics.ipynb\" target=\"_parent\"><img src=\"https://colab.research.google.com/assets/colab-badge.svg\" alt=\"Open In Colab\"/></a>"
      ]
    },
    {
      "cell_type": "code",
      "execution_count": 1,
      "metadata": {
        "colab": {
          "base_uri": "https://localhost:8080/"
        },
        "id": "eIxi_HQLXqiM",
        "outputId": "d2ccb5dd-07e0-4aa7-f0ef-431c8ec06b18"
      },
      "outputs": [
        {
          "output_type": "stream",
          "name": "stdout",
          "text": [
            "2.8.2\n"
          ]
        }
      ],
      "source": [
        "import tensorflow as tf\n",
        "print(tf.__version__)\n"
      ]
    },
    {
      "cell_type": "code",
      "source": [
        "hello = tf.constant(\"Hello \")\n",
        "world = tf.constant(\"World\")\n",
        "\n",
        "type(hello)\n",
        "\n",
        "tf.print(hello+world)"
      ],
      "metadata": {
        "colab": {
          "base_uri": "https://localhost:8080/"
        },
        "id": "xnAKLSHOY9gH",
        "outputId": "bc76854f-44ae-423e-c8d7-2d97116873c2"
      },
      "execution_count": 2,
      "outputs": [
        {
          "output_type": "stream",
          "name": "stdout",
          "text": [
            "Hello World\n"
          ]
        }
      ]
    },
    {
      "cell_type": "code",
      "source": [
        "\n",
        "a = tf.constant(10)\n",
        "b = tf.constant(20)\n",
        "\n",
        "c = a+b\n",
        "\n",
        "tf.print(c)"
      ],
      "metadata": {
        "colab": {
          "base_uri": "https://localhost:8080/"
        },
        "id": "xjxE6WGHaqQR",
        "outputId": "06c03799-69fc-4f9f-a1c1-3c86cd1455d6"
      },
      "execution_count": 3,
      "outputs": [
        {
          "output_type": "stream",
          "name": "stdout",
          "text": [
            "30\n"
          ]
        }
      ]
    },
    {
      "cell_type": "code",
      "source": [
        "tf.fill((4,4),10)\n"
      ],
      "metadata": {
        "colab": {
          "base_uri": "https://localhost:8080/"
        },
        "id": "xtoosFltqAry",
        "outputId": "51ac5d3a-f8d6-426d-a048-f18664b7a6bc"
      },
      "execution_count": 4,
      "outputs": [
        {
          "output_type": "execute_result",
          "data": {
            "text/plain": [
              "<tf.Tensor: shape=(4, 4), dtype=int32, numpy=\n",
              "array([[10, 10, 10, 10],\n",
              "       [10, 10, 10, 10],\n",
              "       [10, 10, 10, 10],\n",
              "       [10, 10, 10, 10]], dtype=int32)>"
            ]
          },
          "metadata": {},
          "execution_count": 4
        }
      ]
    },
    {
      "cell_type": "code",
      "source": [
        "zeros = tf.zeros((4,4))\n"
      ],
      "metadata": {
        "id": "U5cptRR6qlrL"
      },
      "execution_count": 5,
      "outputs": []
    },
    {
      "cell_type": "code",
      "source": [
        "ones = tf.ones((4,4))"
      ],
      "metadata": {
        "id": "hn-9zJC4q8JN"
      },
      "execution_count": 6,
      "outputs": []
    },
    {
      "cell_type": "code",
      "source": [
        "myrandn = tf.random.normal((4,4),mean=0.0,stddev=1.0)\n",
        "myrandn\n"
      ],
      "metadata": {
        "colab": {
          "base_uri": "https://localhost:8080/"
        },
        "id": "-PnpDTnjryhS",
        "outputId": "83b29973-cce6-4f80-9ff7-f6713f930faf"
      },
      "execution_count": 7,
      "outputs": [
        {
          "output_type": "execute_result",
          "data": {
            "text/plain": [
              "<tf.Tensor: shape=(4, 4), dtype=float32, numpy=\n",
              "array([[ 0.0797934 , -0.2738042 ,  0.03152259,  0.30559286],\n",
              "       [-0.8605339 , -1.9971837 , -1.0447905 ,  1.098707  ],\n",
              "       [-1.6190565 , -2.3925629 ,  1.5371269 , -0.51404506],\n",
              "       [ 0.450503  ,  1.3884885 , -0.0420259 ,  1.364144  ]],\n",
              "      dtype=float32)>"
            ]
          },
          "metadata": {},
          "execution_count": 7
        }
      ]
    },
    {
      "cell_type": "code",
      "source": [
        "myrandu = tf.random.uniform((4,4),minval=0,maxval=1)\n",
        "myrandu\n"
      ],
      "metadata": {
        "colab": {
          "base_uri": "https://localhost:8080/"
        },
        "id": "UDnQYKtAOB87",
        "outputId": "8ad17491-0124-4ae0-81d1-d7583ee5a05a"
      },
      "execution_count": 8,
      "outputs": [
        {
          "output_type": "execute_result",
          "data": {
            "text/plain": [
              "<tf.Tensor: shape=(4, 4), dtype=float32, numpy=\n",
              "array([[0.5635432 , 0.33273435, 0.8811182 , 0.80833375],\n",
              "       [0.11942017, 0.99203694, 0.7286563 , 0.7819464 ],\n",
              "       [0.36696076, 0.68207955, 0.05808318, 0.48853326],\n",
              "       [0.37445414, 0.12207246, 0.69690776, 0.6528609 ]], dtype=float32)>"
            ]
          },
          "metadata": {},
          "execution_count": 8
        }
      ]
    },
    {
      "cell_type": "code",
      "source": [
        "myops = [zeros,ones, myrandn,myrandu]\n",
        "\n",
        "for op in myops:\n",
        "  op\n",
        "  tf.print(op)"
      ],
      "metadata": {
        "colab": {
          "base_uri": "https://localhost:8080/"
        },
        "id": "3rnFvuwNdGae",
        "outputId": "9cf0fdfc-1352-445c-bcd4-6076a0159030"
      },
      "execution_count": 9,
      "outputs": [
        {
          "output_type": "stream",
          "name": "stdout",
          "text": [
            "[[0 0 0 0]\n",
            " [0 0 0 0]\n",
            " [0 0 0 0]\n",
            " [0 0 0 0]]\n",
            "[[1 1 1 1]\n",
            " [1 1 1 1]\n",
            " [1 1 1 1]\n",
            " [1 1 1 1]]\n",
            "[[0.0797934 -0.273804188 0.0315225869 0.305592865]\n",
            " [-0.860533893 -1.99718368 -1.04479051 1.09870696]\n",
            " [-1.61905646 -2.39256287 1.5371269 -0.51404506]\n",
            " [0.450503 1.38848853 -0.0420258977 1.36414397]]\n",
            "[[0.5635432 0.332734346 0.881118178 0.808333755]\n",
            " [0.119420171 0.992036939 0.728656292 0.781946421]\n",
            " [0.366960764 0.682079554 0.0580831766 0.488533258]\n",
            " [0.374454141 0.122072458 0.696907759 0.65286088]]\n"
          ]
        }
      ]
    },
    {
      "cell_type": "code",
      "source": [
        "a = tf.constant([[1,2],\n",
        "                 [3,4]])\n",
        "a.get_shape()\n"
      ],
      "metadata": {
        "colab": {
          "base_uri": "https://localhost:8080/"
        },
        "id": "LckWD4xheVN0",
        "outputId": "c909e398-2fdd-451a-faa7-0ecfae915560"
      },
      "execution_count": 12,
      "outputs": [
        {
          "output_type": "execute_result",
          "data": {
            "text/plain": [
              "TensorShape([2, 2])"
            ]
          },
          "metadata": {},
          "execution_count": 12
        }
      ]
    },
    {
      "cell_type": "code",
      "source": [
        "b = tf.constant([[10],[100]])\n",
        "b.get_shape()\n"
      ],
      "metadata": {
        "colab": {
          "base_uri": "https://localhost:8080/"
        },
        "id": "UmFr9RbJe0UT",
        "outputId": "6fe395d8-d688-48fc-9042-6581ad1fbb62"
      },
      "execution_count": 16,
      "outputs": [
        {
          "output_type": "execute_result",
          "data": {
            "text/plain": [
              "TensorShape([2, 1])"
            ]
          },
          "metadata": {},
          "execution_count": 16
        }
      ]
    },
    {
      "cell_type": "code",
      "source": [
        "res_mult = tf.matmul(a,b)\n",
        "tf.print(res_mult)"
      ],
      "metadata": {
        "colab": {
          "base_uri": "https://localhost:8080/"
        },
        "id": "-4jb8tmFe2EP",
        "outputId": "b8fe689b-7f72-453d-8f02-6d54b3efb3ce"
      },
      "execution_count": 17,
      "outputs": [
        {
          "output_type": "stream",
          "name": "stdout",
          "text": [
            "[[210]\n",
            " [430]]\n"
          ]
        }
      ]
    }
  ]
}