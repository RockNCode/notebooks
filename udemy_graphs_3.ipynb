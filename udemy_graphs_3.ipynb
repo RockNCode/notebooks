{
  "nbformat": 4,
  "nbformat_minor": 0,
  "metadata": {
    "colab": {
      "provenance": [],
      "authorship_tag": "ABX9TyOmUmhUcqFcV8g8fdhzFJcr",
      "include_colab_link": true
    },
    "kernelspec": {
      "name": "python3",
      "display_name": "Python 3"
    },
    "language_info": {
      "name": "python"
    }
  },
  "cells": [
    {
      "cell_type": "markdown",
      "metadata": {
        "id": "view-in-github",
        "colab_type": "text"
      },
      "source": [
        "<a href=\"https://colab.research.google.com/github/RockNCode/notebooks/blob/main/udemy_graphs_3.ipynb\" target=\"_parent\"><img src=\"https://colab.research.google.com/assets/colab-badge.svg\" alt=\"Open In Colab\"/></a>"
      ]
    },
    {
      "cell_type": "code",
      "execution_count": 4,
      "metadata": {
        "id": "wRRsqNR2pcNq"
      },
      "outputs": [],
      "source": [
        "import tensorflow as tf\n",
        "import numpy as np\n",
        "\n",
        "np.random.seed(101)\n",
        "tf.random.set_seed(101)"
      ]
    },
    {
      "cell_type": "code",
      "source": [
        "rand_a = np.random.uniform(0,100,(5,5))\n",
        "rand_a"
      ],
      "metadata": {
        "colab": {
          "base_uri": "https://localhost:8080/"
        },
        "id": "afJ9xBO9p5r8",
        "outputId": "67b7a14d-13bd-45cd-8242-eeb792c4b0a1"
      },
      "execution_count": 5,
      "outputs": [
        {
          "output_type": "execute_result",
          "data": {
            "text/plain": [
              "array([[51.63986277, 57.06675869,  2.84742265, 17.15216562, 68.52769817],\n",
              "       [83.38968626, 30.69662197, 89.36130797, 72.15438618, 18.99389542],\n",
              "       [55.42275911, 35.2131954 , 18.18924027, 78.56017619, 96.54832224],\n",
              "       [23.23536618,  8.35614337, 60.35484223, 72.89927573, 27.62388285],\n",
              "       [68.53063288, 51.78674742,  4.84845374, 13.78692376, 18.69674261]])"
            ]
          },
          "metadata": {},
          "execution_count": 5
        }
      ]
    },
    {
      "cell_type": "code",
      "source": [
        "rand_b = np.random.uniform(0,100,(5,1))\n",
        "rand_b"
      ],
      "metadata": {
        "colab": {
          "base_uri": "https://localhost:8080/"
        },
        "id": "ldYU2NY9qJAr",
        "outputId": "38e6a838-724b-4937-ce6f-68a909790eba"
      },
      "execution_count": 6,
      "outputs": [
        {
          "output_type": "execute_result",
          "data": {
            "text/plain": [
              "array([[99.43179012],\n",
              "       [52.06653967],\n",
              "       [57.87895355],\n",
              "       [73.48190583],\n",
              "       [54.19617722]])"
            ]
          },
          "metadata": {},
          "execution_count": 6
        }
      ]
    },
    {
      "cell_type": "code",
      "source": [
        "# replacement for placeholders in TF 2\n",
        "@tf.function\n",
        "def mul_op(a,b):\n",
        "  y = a * b\n",
        "  return y\n",
        "@tf.function\n",
        "def add_op(a,b):\n",
        "  y = a + b\n",
        "  return y"
      ],
      "metadata": {
        "id": "KzRPep3wqr_L"
      },
      "execution_count": 11,
      "outputs": []
    },
    {
      "cell_type": "code",
      "source": [
        "print(add_op(rand_a,rand_b))"
      ],
      "metadata": {
        "colab": {
          "base_uri": "https://localhost:8080/"
        },
        "id": "BR7EoYCirR9i",
        "outputId": "75aa2968-261b-4c04-be9a-182c250310d9"
      },
      "execution_count": 12,
      "outputs": [
        {
          "output_type": "stream",
          "name": "stdout",
          "text": [
            "tf.Tensor(\n",
            "[[151.07165289 156.4985488  102.27921276 116.58395574 167.95948829]\n",
            " [135.45622593  82.76316164 141.42784764 124.22092585  71.06043509]\n",
            " [113.30171266  93.09214895  76.06819381 136.43912973 154.42727579]\n",
            " [ 96.71727201  81.83804919 133.83674806 146.38118156 101.10578868]\n",
            " [122.7268101  105.98292464  59.04463097  67.98310098  72.89291984]], shape=(5, 5), dtype=float64)\n"
          ]
        }
      ]
    },
    {
      "cell_type": "code",
      "source": [
        "print(mul_op(rand_a,rand_b))"
      ],
      "metadata": {
        "colab": {
          "base_uri": "https://localhost:8080/"
        },
        "id": "BQKO-YqJrtO-",
        "outputId": "758684cf-b0ed-49d7-8063-96c5e0f0a867"
      },
      "execution_count": 13,
      "outputs": [
        {
          "output_type": "stream",
          "name": "stdout",
          "text": [
            "tf.Tensor(\n",
            "[[5134.64399656 5674.24997231  283.12433109 1705.4705322  6813.8317015 ]\n",
            " [4341.81240779 1598.26688535 4652.73408616 3756.82921013  988.94640937]\n",
            " [3207.81130015 2038.10290097 1052.77419242 4546.98078818 5588.11585809]\n",
            " [1707.3789896   614.02533992 4434.98883288 5356.77771395 2029.85555814]\n",
            " [3714.09832466 2806.64374096  262.76765829  747.19856325 1013.29197619]], shape=(5, 5), dtype=float64)\n"
          ]
        }
      ]
    },
    {
      "cell_type": "code",
      "source": [],
      "metadata": {
        "id": "CXryFAVir3Df"
      },
      "execution_count": null,
      "outputs": []
    }
  ]
}