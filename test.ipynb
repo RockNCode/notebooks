{
  "nbformat": 4,
  "nbformat_minor": 0,
  "metadata": {
    "colab": {
      "provenance": [],
      "authorship_tag": "ABX9TyP3oQKh4ZnGYqqm7c1S/bUC",
      "include_colab_link": true
    },
    "kernelspec": {
      "name": "python3",
      "display_name": "Python 3"
    },
    "language_info": {
      "name": "python"
    }
  },
  "cells": [
    {
      "cell_type": "markdown",
      "metadata": {
        "id": "view-in-github",
        "colab_type": "text"
      },
      "source": [
        "<a href=\"https://colab.research.google.com/github/RockNCode/notebooks/blob/main/test.ipynb\" target=\"_parent\"><img src=\"https://colab.research.google.com/assets/colab-badge.svg\" alt=\"Open In Colab\"/></a>"
      ]
    },
    {
      "cell_type": "code",
      "execution_count": 9,
      "metadata": {
        "colab": {
          "base_uri": "https://localhost:8080/"
        },
        "id": "OxoZyk4Qej4_",
        "outputId": "5a902d8e-9fbb-4e83-8db3-b492ddd564fc"
      },
      "outputs": [
        {
          "output_type": "stream",
          "name": "stdout",
          "text": [
            "4\n"
          ]
        }
      ],
      "source": [
        "inp_arr = [12,81,74,43,1098,0,8,92,17,754,912,0,6,4]\n",
        "\n",
        "def quickSort(arr_input,start,end):\n",
        "  if start < end:\n",
        "    pp = partition(arr_input,start,end) # index of pivot\n",
        "    quickSort(arr_input,start,pp - 1 ) # sorts the left half of the range\n",
        "    quickSort(arr_input,pp + 1 , end ) # sorts the right half of the range\n",
        "\n",
        "  pass\n",
        "def partition(arr_input,start,end):\n",
        "  pass\n"
      ]
    }
  ]
}