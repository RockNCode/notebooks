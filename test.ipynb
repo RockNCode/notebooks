{
  "nbformat": 4,
  "nbformat_minor": 0,
  "metadata": {
    "colab": {
      "provenance": [],
      "authorship_tag": "ABX9TyOeeSNdarxTi1DB/wcqA3Mj",
      "include_colab_link": true
    },
    "kernelspec": {
      "name": "python3",
      "display_name": "Python 3"
    },
    "language_info": {
      "name": "python"
    }
  },
  "cells": [
    {
      "cell_type": "markdown",
      "metadata": {
        "id": "view-in-github",
        "colab_type": "text"
      },
      "source": [
        "<a href=\"https://colab.research.google.com/github/RockNCode/notebooks/blob/main/test.ipynb\" target=\"_parent\"><img src=\"https://colab.research.google.com/assets/colab-badge.svg\" alt=\"Open In Colab\"/></a>"
      ]
    },
    {
      "cell_type": "code",
      "execution_count": 4,
      "metadata": {
        "colab": {
          "base_uri": "https://localhost:8080/"
        },
        "id": "OxoZyk4Qej4_",
        "outputId": "cf9ef6d7-49aa-42d3-a446-d18ba42edabd"
      },
      "outputs": [
        {
          "output_type": "execute_result",
          "data": {
            "text/plain": [
              "[0, 0, 4, 6, 8, 12, 17, 43, 74, 81, 92, 754, 912, 1098]"
            ]
          },
          "metadata": {},
          "execution_count": 4
        }
      ],
      "source": [
        "inp_arr = [12,81,74,43,1098,0,8,92,17,754,912,0,6,4]\n",
        "\n",
        "def quickSort(arr_input,start,end):\n",
        "  if start < end:\n",
        "    pp = partition(arr_input,start,end) # index of pivot\n",
        "    quickSort(arr_input,start,pp - 1 ) # sorts the left half of the range\n",
        "    quickSort(arr_input,pp + 1 , end ) # sorts the right half of the range\n",
        "\n",
        "def partition(arr_input,start,end):\n",
        "  pivot = arr_input[end]\n",
        "  i = start - 1\n",
        "\n",
        "  for j in range(start,end):\n",
        "    if arr_input[j] <= pivot:\n",
        "      i+=1\n",
        "      iVal = arr_input[i]\n",
        "      jVal = arr_input[j]\n",
        "      #swap\n",
        "      arr_input[i] = jVal\n",
        "      arr_input[j] = iVal\n",
        "  \n",
        "  iVal = arr_input[i+1]\n",
        "  arr_input[end] = iVal\n",
        "  arr_input[i+1] = pivot\n",
        "  return i + 1\n",
        "\n",
        "inp_arr\n",
        "quickSort(inp_arr,0,len(inp_arr)-1)\n",
        "inp_arr"
      ]
    }
  ]
}